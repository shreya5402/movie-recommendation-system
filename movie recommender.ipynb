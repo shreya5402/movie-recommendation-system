{
 "cells": [
  {
   "cell_type": "code",
   "execution_count": null,
   "metadata": {},
   "outputs": [],
   "source": [
    "#Data -> Preprocessing -> Model Building -> Model to website -> Deploying the website \n",
    "#ml gives recommendation according to the browsed settings\n",
    "#by increasing servers you can add as much product as you want \n",
    "#recommender system plays an important role to represent the products\n",
    "\n",
    "# Types of recommender systems:-\n",
    "# 1.content based -- on the basis of the content similarity it recommends the content. \n",
    "# Eg. if you're watching a rom com then similar rom coms will be recommended. \n",
    "# Tags are created for the products and on the basis of tags recoomendation is done\n",
    "\n",
    "# 2.collaborative filter based -- On the basis of similar users interest. \n",
    "# For example if we have two users A and B. \n",
    "# According to their previous rating experineces we've found out that both of them have rated the same movies equally.\n",
    "# so if user A watches a movie xyz and rates is as good then the same movie will be recommended to user B \n",
    "# because of the similarity between interests of the two user. \n",
    "# Facebook uses this. \n",
    "# E.g if all your friends are reacting on a post then that post will show up on your feed.\n",
    "\n",
    "# 3.Hybrid -- a combination of the upper two approaches. \n",
    "\n",
    "# In this project we will use content based recommender system\n",
    "\n",
    "# All the meta data (i.e. data for the movie) has been picked up from the dataset on the following website:- https://www.kaggle.com/datasets/tmdb/tmdb-movie-metadata?select=tmdb_5000_movies.csv\n",
    "\n",
    "#movies is a dataframe that is created to read the database \n",
    "#to read we will write:- movies= pd.read_csv('...')\n",
    "#to display the dataset we will write:- movies.head()\n",
    "#to display one column values in the database: for eg. here we want to show the cast column values of tehb first row. \n",
    "# credits.head(1)['cast'].values\n",
    "#To merge two dataframes:- \n",
    "#1. find some common ground to merge the dataframes. For example title, id, name of something etc.\n",
    "#2. To merge simply write:- dataframe1.merge(dataframe2,on='column-basis') e.g.- movies.merge(credits, on='Title')\n",
    "\n",
    "#To find shape i.e rows and columns we type:- .shape e.g- movies.shape or movies.merge(credits, on='title').shape\n",
    "\n",
    "#to check distribution of something/ soem column:- dataframe['column'].value_counts()\n",
    "#e.g. movies['original_lang'].value_counts()\n",
    "\n",
    "#.info is used to show all the columns, null values and data types. which is helpful to finialise the columns that we want.\n",
    "\n",
    "#To store only those columns in the daatbase that we need we will do:-\n",
    "#movies[['movie_id','cast','crew']]\n",
    "#in the above example:- dataframe[['column1','column2']]"
   ]
  }
 ],
 "metadata": {
  "kernelspec": {
   "display_name": "Python 3.10.2 64-bit",
   "language": "python",
   "name": "python3"
  },
  "language_info": {
   "name": "python",
   "version": "3.10.2"
  },
  "orig_nbformat": 4,
  "vscode": {
   "interpreter": {
    "hash": "aee8b7b246df8f9039afb4144a1f6fd8d2ca17a180786b69acc140d282b71a49"
   }
  }
 },
 "nbformat": 4,
 "nbformat_minor": 2
}
